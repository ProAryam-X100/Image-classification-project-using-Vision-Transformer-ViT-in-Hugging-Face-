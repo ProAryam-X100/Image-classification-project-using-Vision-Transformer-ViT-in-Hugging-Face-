{
  "nbformat": 4,
  "nbformat_minor": 0,
  "metadata": {
    "colab": {
      "provenance": [],
      "authorship_tag": "ABX9TyOYB81qV+lU/YXvv75jXuqF"
    },
    "kernelspec": {
      "name": "python3",
      "display_name": "Python 3"
    },
    "language_info": {
      "name": "python"
    }
  },
  "cells": [
    {
      "cell_type": "markdown",
      "source": [
        "**Image classification project using Vision Transformer (ViT) in Hugging Face 🚀**\n",
        "\n",
        "*ARYAM ASEIRI*\n",
        "\n",
        "AI model capable of image classification using Hugging Face's pre-trained Vision Transformer (ViT). It can be used to classify images into different categories such as:\n",
        "\n",
        "- Identify the types of fruits and vegetables 🍎🥦\n",
        "- Classification of types of clothing 👕👗\n",
        "- Identifying animal breeds 🐶🐱\n",
        "- Identifying diseases in x-ray images 🏥 (in the medical field)"
      ],
      "metadata": {
        "id": "3NaTJwEo1rms"
      }
    },
    {
      "cell_type": "code",
      "execution_count": null,
      "metadata": {
        "id": "M3qy972tqWbD"
      },
      "outputs": [],
      "source": [
        "#Download libraries (Ai)\n",
        "!pip install transformers datasets torch torchvision gradio"
      ]
    },
    {
      "cell_type": "code",
      "source": [
        "#Import libraries\n",
        "from transformers import ViTForImageClassification, ViTFeatureExtractor\n",
        "from PIL import Image\n",
        "import torch\n",
        "import requests"
      ],
      "metadata": {
        "id": "EMMlR2mTqa6C"
      },
      "execution_count": 24,
      "outputs": []
    },
    {
      "cell_type": "code",
      "source": [
        "#Load the pre-trained ViT model\n",
        "#https://huggingface.co/google/vit-base-patch16-224\n",
        "model_name = \"google/vit-base-patch16-224\"\n",
        "model = ViTForImageClassification.from_pretrained(model_name)\n",
        "feature_extractor = ViTFeatureExtractor.from_pretrained(model_name)"
      ],
      "metadata": {
        "colab": {
          "base_uri": "https://localhost:8080/"
        },
        "id": "6UqwMU6_qdjJ",
        "outputId": "2bf7f412-7ca3-405e-e635-cac4309bb9a7"
      },
      "execution_count": 25,
      "outputs": [
        {
          "output_type": "stream",
          "name": "stderr",
          "text": [
            "/usr/local/lib/python3.11/dist-packages/transformers/models/vit/feature_extraction_vit.py:28: FutureWarning: The class ViTFeatureExtractor is deprecated and will be removed in version 5 of Transformers. Please use ViTImageProcessor instead.\n",
            "  warnings.warn(\n"
          ]
        }
      ]
    },
    {
      "cell_type": "code",
      "source": [
        "from transformers import ViTForImageClassification, ViTImageProcessor\n",
        "from PIL import Image\n",
        "import torch\n",
        "import requests\n",
        "import json\n",
        "\n",
        "# Load the model and feature extractor\n",
        "model_name = \"google/vit-base-patch16-224\"\n",
        "model = ViTForImageClassification.from_pretrained(model_name)\n",
        "feature_extractor = ViTImageProcessor.from_pretrained(model_name)\n",
        "\n",
        "# Download the image (Classification experiment on an image)\n",
        "url = \"https://huggingface.co/datasets/huggingface/documentation-images/resolve/main/cats.png\"\n",
        "image = Image.open(requests.get(url, stream=True).raw)\n",
        "image = image.convert(\"RGB\")  # Ensure the image is in \"RGB format\"\n",
        "\n",
        "# Process\n",
        "inputs = feature_extractor(images=image, return_tensors=\"pt\")\n",
        "\n",
        "# Run the model\n",
        "with torch.no_grad():\n",
        "    outputs = model(**inputs)\n",
        "    logits = outputs.logits\n",
        "    predicted_class = logits.argmax(-1).item()\n",
        "\n",
        "# Load ImageNet class labels from Hugging Face dataset\n",
        "labels_url = \"https://huggingface.co/google/vit-base-patch16-224/raw/main/config.json\"\n",
        "labels = requests.get(labels_url).json()[\"id2label\"]\n",
        "\n",
        "# Convert dictionary keys to string format\n",
        "labels = {str(k): v for k, v in labels.items()}\n",
        "\n",
        "# Get the predicted class name\n",
        "predicted_label = labels.get(str(predicted_class), \"Unknown Class\")\n",
        "print(f\"The image is classified as: {predicted_label} (Class No. {predicted_class})\")"
      ],
      "metadata": {
        "colab": {
          "base_uri": "https://localhost:8080/"
        },
        "id": "zhex4IVXqgIf",
        "outputId": "5705267c-39fe-4b81-c65d-4577a6bfaad5"
      },
      "execution_count": 26,
      "outputs": [
        {
          "output_type": "stream",
          "name": "stdout",
          "text": [
            "The image is classified as: tabby, tabby cat (Class No. 281)\n"
          ]
        }
      ]
    },
    {
      "cell_type": "code",
      "source": [
        "#Create a simple user interface with Gradio\n",
        "import gradio as gr\n",
        "\n",
        "def classify_image(img):\n",
        "    inputs = feature_extractor(images=img, return_tensors=\"pt\")\n",
        "    with torch.no_grad():\n",
        "        outputs = model(**inputs)\n",
        "        logits = outputs.logits\n",
        "        predicted_class = logits.argmax(-1).item()\n",
        "    class_name = labels.get(str(predicted_class), \"Unknown Class\")\n",
        "\n",
        "    return f\"🔍 Predicted Class: {class_name} (Class No. {predicted_class})\"\n",
        "\n",
        "gr.Interface(fn=classify_image, inputs=\"image\", outputs=\"text\").launch()"
      ],
      "metadata": {
        "colab": {
          "base_uri": "https://localhost:8080/",
          "height": 645
        },
        "id": "hJapHpA0qqTd",
        "outputId": "a46f2ba9-4ebd-4864-b90d-671d9a80eff6"
      },
      "execution_count": 33,
      "outputs": [
        {
          "output_type": "stream",
          "name": "stdout",
          "text": [
            "Running Gradio in a Colab notebook requires sharing enabled. Automatically setting `share=True` (you can turn this off by setting `share=False` in `launch()` explicitly).\n",
            "\n",
            "Colab notebook detected. To show errors in colab notebook, set debug=True in launch()\n",
            "* Running on public URL: https://ed24316115f694ba5e.gradio.live\n",
            "\n",
            "This share link expires in 72 hours. For free permanent hosting and GPU upgrades, run `gradio deploy` from the terminal in the working directory to deploy to Hugging Face Spaces (https://huggingface.co/spaces)\n"
          ]
        },
        {
          "output_type": "display_data",
          "data": {
            "text/plain": [
              "<IPython.core.display.HTML object>"
            ],
            "text/html": [
              "<div><iframe src=\"https://ed24316115f694ba5e.gradio.live\" width=\"100%\" height=\"500\" allow=\"autoplay; camera; microphone; clipboard-read; clipboard-write;\" frameborder=\"0\" allowfullscreen></iframe></div>"
            ]
          },
          "metadata": {}
        },
        {
          "output_type": "execute_result",
          "data": {
            "text/plain": []
          },
          "metadata": {},
          "execution_count": 33
        }
      ]
    }
  ]
}